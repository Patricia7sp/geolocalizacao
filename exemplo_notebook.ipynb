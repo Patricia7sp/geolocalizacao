{
 "cells": [
  {
   "cell_type": "markdown",
   "metadata": {},
   "source": [
    "# 🌍 Sistema de Geolocalização de Imóveis\n",
    "\n",
    "**Objetivo:** Encontrar o endereço exato de um imóvel a partir de uma foto.\n",
    "\n",
    "## 🎯 O que este notebook faz:\n",
    "\n",
    "1. Analisa a foto do imóvel (arquitetura, cores, contexto)\n",
    "2. Busca candidatos na área (Google Places + Grid Search)\n",
    "3. Baixa imagens do Street View\n",
    "4. Compara visualmente (CLIP + SIFT)\n",
    "5. Valida com LLM (Claude)\n",
    "6. Retorna endereço completo com confiança\n",
    "\n",
    "---"
   ]
  },
  {
   "cell_type": "markdown",
   "metadata": {},
   "source": [
    "## 📦 Instalação"
   ]
  },
  {
   "cell_type": "code",
   "execution_count": null,
   "metadata": {},
   "outputs": [],
   "source": [
    "# Instalar dependências (rode apenas uma vez)\n",
    "!pip install -q anthropic requests pillow numpy opencv-python-headless\n",
    "!pip install -q torch open-clip-torch pandas folium tqdm python-dotenv"
   ]
  },
  {
   "cell_type": "markdown",
   "metadata": {},
   "source": [
    "## 🔑 Configuração de APIs"
   ]
  },
  {
   "cell_type": "code",
   "execution_count": null,
   "metadata": {},
   "outputs": [],
   "source": [
    "import os\n",
    "\n",
    "# Configure suas chaves de API aqui\n",
    "os.environ[\"GOOGLE_API_KEY\"] = \"sua_chave_google_aqui\"\n",
    "os.environ[\"ANTHROPIC_API_KEY\"] = \"sua_chave_anthropic_aqui\"\n",
    "\n",
    "print(\"✅ APIs configuradas!\")"
   ]
  },
  {
   "cell_type": "markdown",
   "metadata": {},
   "source": [
    "## 📸 Upload da Foto do Imóvel"
   ]
  },
  {
   "cell_type": "code",
   "execution_count": null,
   "metadata": {},
   "outputs": [],
   "source": [
    "from google.colab import files\n",
    "from PIL import Image\n",
    "import io\n",
    "\n",
    "# Upload da foto\n",
    "uploaded = files.upload()\n",
    "\n",
    "# Pegar nome do arquivo\n",
    "foto_path = list(uploaded.keys())[0]\n",
    "\n",
    "# Visualizar\n",
    "img = Image.open(foto_path)\n",
    "img.thumbnail((600, 600))\n",
    "display(img)\n",
    "\n",
    "print(f\"\\n📸 Foto carregada: {foto_path}\")"
   ]
  },
  {
   "cell_type": "markdown",
   "metadata": {},
   "source": [
    "## 🚀 Inicializar Sistema"
   ]
  },
  {
   "cell_type": "code",
   "execution_count": null,
   "metadata": {},
   "outputs": [],
   "source": [
    "import sys\n",
    "from pathlib import Path\n",
    "\n",
    "# Adicionar diretório do projeto ao path\n",
    "sys.path.insert(0, '/content/geolocaliza')\n",
    "\n",
    "from main import GeoLocalizador\n",
    "\n",
    "# Inicializar\n",
    "geo = GeoLocalizador()\n",
    "\n",
    "print(\"✅ Sistema inicializado!\")"
   ]
  },
  {
   "cell_type": "markdown",
   "metadata": {},
   "source": [
    "## 🎯 Executar Geolocalização"
   ]
  },
  {
   "cell_type": "code",
   "execution_count": null,
   "metadata": {},
   "outputs": [],
   "source": [
    "# Configurar área de busca\n",
    "cidade = \"São Paulo\"\n",
    "bairro = \"Alto da Boa Vista\"  # Opcional\n",
    "center_lat = -23.6505  # Coordenada central\n",
    "center_lon = -46.6815\n",
    "radius_m = 2000  # Raio de busca em metros\n",
    "\n",
    "print(\"🔍 Iniciando busca...\\n\")\n",
    "print(f\"📍 Cidade: {cidade}\")\n",
    "print(f\"🏘️  Bairro: {bairro}\")\n",
    "print(f\"📏 Raio: {radius_m}m\\n\")\n",
    "print(\"⏱️  Isso pode levar 2-5 minutos...\\n\")\n",
    "\n",
    "# Executar\n",
    "resultado = geo.localizar_imovel(\n",
    "    foto_path=foto_path,\n",
    "    cidade=cidade,\n",
    "    bairro=bairro,\n",
    "    center_lat=center_lat,\n",
    "    center_lon=center_lon,\n",
    "    radius_m=radius_m\n",
    ")"
   ]
  },
  {
   "cell_type": "markdown",
   "metadata": {},
   "source": [
    "## 📊 Resultado"
   ]
  },
  {
   "cell_type": "code",
   "execution_count": null,
   "metadata": {},
   "outputs": [],
   "source": [
    "import json\n",
    "\n",
    "if resultado[\"success\"]:\n",
    "    print(\"\\n\" + \"=\"*60)\n",
    "    print(\"✅ IMÓVEL LOCALIZADO!\")\n",
    "    print(\"=\"*60 + \"\\n\")\n",
    "    \n",
    "    print(f\"📍 Endereço Completo:\")\n",
    "    print(f\"   {resultado['endereco']}\\n\")\n",
    "    \n",
    "    print(f\"🏠 Detalhes:\")\n",
    "    print(f\"   Rua: {resultado['rua']}\")\n",
    "    print(f\"   Número: {resultado['numero']}\")\n",
    "    print(f\"   Bairro: {resultado['bairro']}\")\n",
    "    print(f\"   Cidade: {resultado['cidade']}\")\n",
    "    print(f\"   Estado: {resultado['estado']}\")\n",
    "    print(f\"   CEP: {resultado['cep']}\\n\")\n",
    "    \n",
    "    print(f\"🎯 Confiança: {resultado['confianca']:.1%}\\n\")\n",
    "    \n",
    "    print(f\"📊 Scores Detalhados:\")\n",
    "    print(f\"   CLIP (semântica): {resultado['scores']['clip']:.3f}\")\n",
    "    print(f\"   Geometria (SIFT): {resultado['scores']['geometria']:.3f}\")\n",
    "    print(f\"   LLM (validação): {resultado['scores']['llm']:.3f}\\n\")\n",
    "    \n",
    "    print(f\"📌 Coordenadas:\")\n",
    "    print(f\"   Lat: {resultado['coordenadas']['lat']:.6f}\")\n",
    "    print(f\"   Lon: {resultado['coordenadas']['lon']:.6f}\\n\")\n",
    "    \n",
    "    print(f\"💭 Raciocínio do Sistema:\")\n",
    "    print(f\"   {resultado['reasoning']}\\n\")\n",
    "    \n",
    "    print(f\"🗺️  Street View:\")\n",
    "    print(f\"   {resultado['street_view_link']}\\n\")\n",
    "    \n",
    "    print(\"=\"*60)\n",
    "    \n",
    "else:\n",
    "    print(\"\\n\" + \"=\"*60)\n",
    "    print(\"❌ NÃO FOI POSSÍVEL LOCALIZAR\")\n",
    "    print(\"=\"*60 + \"\\n\")\n",
    "    print(f\"⚠️  Erro: {resultado['error']}\\n\")\n",
    "    if 'hint' in resultado:\n",
    "        print(f\"💡 Dica: {resultado['hint']}\\n\")\n",
    "    print(\"=\"*60)"
   ]
  },
  {
   "cell_type": "markdown",
   "metadata": {},
   "source": [
    "## 🗺️ Visualizar Mapa Interativo"
   ]
  },
  {
   "cell_type": "code",
   "execution_count": null,
   "metadata": {},
   "outputs": [],
   "source": [
    "from IPython.display import IFrame\n",
    "\n",
    "# Exibir mapa gerado\n",
    "mapa_path = \"/content/geolocaliza/output/mapa.html\"\n",
    "\n",
    "if Path(mapa_path).exists():\n",
    "    print(\"🗺️  Mapa interativo:\")\n",
    "    display(IFrame(mapa_path, width=800, height=600))\n",
    "else:\n",
    "    print(\"⚠️  Mapa não foi gerado\")"
   ]
  },
  {
   "cell_type": "markdown",
   "metadata": {},
   "source": [
    "## 📁 Análise Visual Detalhada"
   ]
  },
  {
   "cell_type": "code",
   "execution_count": null,
   "metadata": {},
   "outputs": [],
   "source": [
    "import json\n",
    "\n",
    "# Carregar análise visual\n",
    "analise_path = \"/content/geolocaliza/output/analise_visual.json\"\n",
    "\n",
    "if Path(analise_path).exists():\n",
    "    with open(analise_path, 'r', encoding='utf-8') as f:\n",
    "        analise = json.load(f)\n",
    "    \n",
    "    print(\"🔍 ANÁLISE VISUAL DA FOTO\\n\")\n",
    "    print(\"=\"*60)\n",
    "    \n",
    "    # Arquitetura\n",
    "    arq = analise['analysis']['architecture']\n",
    "    print(\"\\n🏛️  ARQUITETURA:\")\n",
    "    print(f\"   Estilo: {arq['style']}\")\n",
    "    print(f\"   Andares visíveis: {arq['floors_visible']}\")\n",
    "    print(f\"   Tipo de telhado: {arq['roof_type']}\")\n",
    "    print(f\"   Cor principal: {arq['main_color']}\")\n",
    "    print(f\"   Material: {arq['material']}\")\n",
    "    \n",
    "    # Elementos distintivos\n",
    "    dist = analise['analysis']['distinctive_features']\n",
    "    print(\"\\n✨ ELEMENTOS DISTINTIVOS:\")\n",
    "    print(f\"   Tipo de portão: {dist['gate_type']}\")\n",
    "    print(f\"   Janelas: {dist['windows']['style']} ({dist['windows']['count_visible']} visíveis)\")\n",
    "    print(f\"   Varanda/Garagem: {dist['balcony_garage']}\")\n",
    "    print(f\"   Jardim/Plantas: {dist['garden_plants']}\")\n",
    "    if dist['unique_elements']:\n",
    "        print(f\"   Únicos: {', '.join(dist['unique_elements'])}\")\n",
    "    \n",
    "    # Contexto urbano\n",
    "    ctx = analise['analysis']['urban_context']\n",
    "    print(\"\\n🏙️  CONTEXTO URBANO:\")\n",
    "    print(f\"   Tipo de rua: {ctx['street_type']}\")\n",
    "    print(f\"   Calçada: {ctx['sidewalk']}\")\n",
    "    print(f\"   Árvores: {ctx['trees_visible']}\")\n",
    "    print(f\"   Postes: {ctx['utility_poles']}\")\n",
    "    print(f\"   Prédios adjacentes: {ctx['adjacent_buildings']}\")\n",
    "    print(f\"   Inclinação: {ctx['street_slope']}\")\n",
    "    \n",
    "    # Textos visíveis\n",
    "    txt = analise['analysis']['visible_text']\n",
    "    print(\"\\n📝 TEXTOS VISÍVEIS:\")\n",
    "    print(f\"   Número: {txt['address_number']}\")\n",
    "    if txt['street_signs']:\n",
    "        print(f\"   Placas: {', '.join(txt['street_signs'])}\")\n",
    "    print(f\"   Nome do condomínio: {txt['condo_name']}\")\n",
    "    \n",
    "    print(\"\\n\" + \"=\"*60)\n",
    "else:\n",
    "    print(\"⚠️  Análise visual não disponível\")"
   ]
  },
  {
   "cell_type": "markdown",
   "metadata": {},
   "source": [
    "## 📊 Análise dos Candidatos"
   ]
  },
  {
   "cell_type": "code",
   "execution_count": null,
   "metadata": {},
   "outputs": [],
   "source": [
    "import pandas as pd\n",
    "\n",
    "# Carregar candidatos validados\n",
    "candidatos_path = \"/content/geolocaliza/output/candidatos_validados.csv\"\n",
    "\n",
    "if Path(candidatos_path).exists():\n",
    "    df = pd.read_csv(candidatos_path)\n",
    "    \n",
    "    print(\"\\n📊 TOP 5 CANDIDATOS:\\n\")\n",
    "    print(\"=\"*80)\n",
    "    \n",
    "    for i, row in df.head(5).iterrows():\n",
    "        print(f\"\\n#{i+1} - Confiança: {row['final_confidence']:.1%}\")\n",
    "        print(f\"   Match LLM: {'✅ SIM' if row['llm_is_match'] else '❌ NÃO'}\")\n",
    "        print(f\"   Scores: CLIP={row['clip_score']:.3f} | GEOM={row['geom_score']:.3f} | LLM={row['llm_confidence']:.3f}\")\n",
    "        print(f\"   Coordenadas: {row['lat']:.6f}, {row['lon']:.6f}\")\n",
    "        print(f\"   Raciocínio: {row['llm_reasoning']}\")\n",
    "        if pd.notna(row.get('name')):\n",
    "            print(f\"   Local: {row['name']}\")\n",
    "    \n",
    "    print(\"\\n\" + \"=\"*80)\n",
    "    \n",
    "    # Estatísticas\n",
    "    print(\"\\n📈 ESTATÍSTICAS:\\n\")\n",
    "    print(f\"   Total de candidatos: {len(df)}\")\n",
    "    print(f\"   Matches LLM: {df['llm_is_match'].sum()}\")\n",
    "    print(f\"   Score CLIP médio: {df['clip_score'].mean():.3f}\")\n",
    "    print(f\"   Score Geométrico médio: {df['geom_score'].mean():.3f}\")\n",
    "    print(f\"   Confiança final média: {df['final_confidence'].mean():.3f}\")\n",
    "    \n",
    "else:\n",
    "    print(\"⚠️  Dados de candidatos não disponíveis\")"
   ]
  },
  {
   "cell_type": "markdown",
   "metadata": {},
   "source": [
    "## 🖼️ Visualizar Match Visual"
   ]
  },
  {
   "cell_type": "code",
   "execution_count": null,
   "metadata": {},
   "outputs": [],
   "source": [
    "from PIL import Image\n",
    "import matplotlib.pyplot as plt\n",
    "\n",
    "if resultado[\"success\"]:\n",
    "    # Carregar foto original\n",
    "    img_query = Image.open(foto_path)\n",
    "    \n",
    "    # Pegar melhor match\n",
    "    df = pd.read_csv(\"/content/geolocaliza/output/candidatos_validados.csv\")\n",
    "    best = df.iloc[0]\n",
    "    \n",
    "    # Carregar Street View correspondente\n",
    "    sv_path = f\"/content/geolocaliza/output/street_views/{best['filename']}\"\n",
    "    \n",
    "    if Path(sv_path).exists():\n",
    "        img_sv = Image.open(sv_path)\n",
    "        \n",
    "        # Plotar lado a lado\n",
    "        fig, axes = plt.subplots(1, 2, figsize=(16, 8))\n",
    "        \n",
    "        axes[0].imshow(img_query)\n",
    "        axes[0].set_title(f\"FOTO DO USUÁRIO\\n{foto_path}\", fontsize=14, fontweight='bold')\n",
    "        axes[0].axis('off')\n",
    "        \n",
    "        axes[1].imshow(img_sv)\n",
    "        axes[1].set_title(\n",
    "            f\"MELHOR MATCH (Street View)\\n\"\n",
    "            f\"Confiança: {best['final_confidence']:.1%} | \"\n",
    "            f\"CLIP: {best['clip_score']:.3f} | \"\n",
    "            f\"GEOM: {best['geom_score']:.3f}\",\n",
    "            fontsize=14,\n",
    "            fontweight='bold'\n",
    "        )\n",
    "        axes[1].axis('off')\n",
    "        \n",
    "        plt.tight_layout()\n",
    "        plt.show()\n",
    "    else:\n",
    "        print(\"⚠️  Imagem do Street View não encontrada\")\n",
    "else:\n",
    "    print(\"⚠️  Nenhum match para visualizar\")"
   ]
  },
  {
   "cell_type": "markdown",
   "metadata": {},
   "source": [
    "## 💾 Baixar Resultados"
   ]
  },
  {
   "cell_type": "code",
   "execution_count": null,
   "metadata": {},
   "outputs": [],
   "source": [
    "from google.colab import files\n",
    "import shutil\n",
    "\n",
    "# Criar ZIP com todos os resultados\n",
    "shutil.make_archive('/content/resultados_geolocalizacao', 'zip', '/content/geolocaliza/output')\n",
    "\n",
    "print(\"📦 Baixando resultados...\")\n",
    "files.download('/content/resultados_geolocalizacao.zip')\n",
    "\n",
    "print(\"\\n✅ Download completo!\")\n",
    "print(\"\\n📁 O ZIP contém:\")\n",
    "print(\"   • resultado_final.json\")\n",
    "print(\"   • analise_visual.json\")\n",
    "print(\"   • candidatos.csv\")\n",
    "print(\"   • candidatos_validados.csv\")\n",
    "print(\"   • mapa.html\")\n",
    "print(\"   • street_views/ (imagens)\")\n",
    "print(\"   • geolocaliza.log\")"
   ]
  },
  {
   "cell_type": "markdown",
   "metadata": {},
   "source": [
    "## 🔧 Teste Individual de Agentes\n",
    "\n",
    "Para debugar problemas, teste cada agente separadamente:"
   ]
  },
  {
   "cell_type": "code",
   "execution_count": null,
   "metadata": {},
   "outputs": [],
   "source": [
    "# Teste do VisionAgent\n",
    "from agents.vision_agent import VisionAgent\n",
    "\n",
    "vision = VisionAgent()\n",
    "result = vision.analyze_image(foto_path)\n",
    "\n",
    "if result[\"success\"]:\n",
    "    print(\"✅ VisionAgent OK\")\n",
    "    print(json.dumps(result[\"analysis\"], indent=2, ensure_ascii=False))\n",
    "else:\n",
    "    print(f\"❌ Erro: {result['error']}\")"
   ]
  },
  {
   "cell_type": "markdown",
   "metadata": {},
   "source": [
    "---\n",
    "\n",
    "## 📚 Documentação Completa\n",
    "\n",
    "Para mais informações, consulte:\n",
    "- `README.md` - Visão geral do sistema\n",
    "- `GUIA_USO.md` - Guia detalhado de uso\n",
    "- `ARQUITETURA.md` - Arquitetura técnica\n",
    "\n",
    "---\n",
    "\n",
    "## 🐛 Problemas Comuns\n",
    "\n",
    "### \"Nenhum candidato encontrado\"\n",
    "→ Aumente o `radius_m` ou verifique coordenadas\n",
    "\n",
    "### \"Confiança baixa\"\n",
    "→ Tire foto de outro ângulo ou reduza `min_confidence` em `config.py`\n",
    "\n",
    "### \"API Error\"\n",
    "→ Verifique as chaves de API e quotas no Google Cloud\n",
    "\n",
    "---\n",
    "\n",
    "**Desenvolvido com ❤️ usando Claude + OpenCLIP + Google APIs**"
   ]
  }
 ],
 "metadata": {
  "kernelspec": {
   "display_name": "Python 3",
   "language": "python",
   "name": "python3"
  },
  "language_info": {
   "name": "python",
   "version": "3.10.0"
  }
 },
 "nbformat": 4,
 "nbformat_minor": 4
}
